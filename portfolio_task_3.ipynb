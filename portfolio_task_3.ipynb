{
 "cells": [
  {
   "cell_type": "code",
   "execution_count": 1,
   "id": "f5ef9907",
   "metadata": {},
   "outputs": [],
   "source": [
    "#importing nltk libraries for task\n",
    "from nltk import word_tokenize\n",
    "from nltk import pos_tag\n",
    "from nltk.corpus import wordnet as wn\n",
    "\n",
    "#function to compute synset tags of ambiguous words \n",
    "def pos_disambiguation(sentence, ambiguous_word):\n",
    "    word_tag = \"\"\n",
    "    pos_tagged_list = pos_tag(word_tokenize(sentence))\n",
    "    for word, pos in pos_tagged_list:\n",
    "        if (word == ambiguous_word) and (pos.startswith(\"N\")):\n",
    "            word_tag = wn.NOUN\n",
    "        elif (word == ambiguous_word) and (pos.startswith(\"V\")):\n",
    "            word_tag = wn.VERB\n",
    "        elif (word == ambiguous_word) and (pos.startswith(\"R\")):\n",
    "            word_tag = wn.ADV\n",
    "        elif (word == ambiguous_word) and (pos.startswith(\"J\")):\n",
    "            word_tag = wn.ADJ\n",
    "    synsets = wn.synsets(ambiguous_word, word_tag)\n",
    "    return synsets"
   ]
  },
  {
   "cell_type": "markdown",
   "id": "bede675f",
   "metadata": {},
   "source": [
    "first imported nltk libraries needed for the tasks. \n",
    "then, defined a function that takes in sentence and the ambiguous word within the sentence as parameters.\n",
    "\n",
    "initialized a string called word_tag to take in values of computed wordnet tags.\n",
    "\n",
    "the pos_tagged_list contains list of words and their pos_tags computed by firstly, tokenizing the sentence using the word_tokenize()function which accepts strings of words and secondly, pos_tagging the list of tokenized words using the pos_tag() function which accepts tokens of words.\n",
    "\n",
    "iterated the pos_tagged_list and compared each word in the list to the ambiguous word. if it finds a match, because of the AND operator, it goes on to compare the pos_tag of the ambigous word to the specified character within the startswith() function. the startswith() function checks if the first charater of the ambiguous_word pos_tag, matches the character specified. if both condition holds then the word_tag takes the version of the wordnet pos_tag, that matches the value of the pos_tag of the ambiguous word. the \"elif\" statement reassigns the value if the conditions in the previous statement does not hold.\n",
    "\n",
    "the wordnet synset takes as input the ambiguous_word and the matching word_tag and it is assigned to the variable \"synsets\". \n",
    "the function returns a list of synsets that matches the ambiguous word"
   ]
  },
  {
   "cell_type": "code",
   "execution_count": 3,
   "id": "d536e1b2",
   "metadata": {},
   "outputs": [
    {
     "name": "stdout",
     "output_type": "stream",
     "text": [
      "Synset('sentence.n.01') a string of words satisfying the grammatical rules of a language\n",
      "\n",
      "Synset('conviction.n.02') (criminal law) a final judgment of guilty in a criminal case and the punishment that is imposed\n",
      "\n",
      "Synset('prison_term.n.01') the period of time a prisoner is imprisoned\n",
      "\n"
     ]
    }
   ],
   "source": [
    "#initializing the sentence and ambiguous_word\n",
    "sentence = \"He always spoke in grammatical sentences.\"\n",
    "ambiguous_word = \"sentences\"\n",
    "\n",
    "#calling the pos_disambiguation() function and assigning it to the variable disambiguated_synsets\n",
    "disambiguated_synsets = pos_disambiguation(sentence, ambiguous_word)\n",
    "\n",
    "#iterating through the synsets in disambiguated_synsets and printing each synset with their definitions\n",
    "for synset in disambiguated_synsets:\n",
    "    print(synset, synset.definition())\n",
    "    print()"
   ]
  },
  {
   "cell_type": "code",
   "execution_count": 4,
   "id": "b75fa317",
   "metadata": {},
   "outputs": [
    {
     "name": "stdout",
     "output_type": "stream",
     "text": [
      "Synset('sentence.v.01') pronounce a sentence on (somebody) in a court of law\n",
      "\n"
     ]
    }
   ],
   "source": [
    "#initializing the sentence and ambiguous_word\n",
    "sentence = \"the court will sentence the offender tomorrow.\"\n",
    "ambiguous_word = \"sentence\"\n",
    "\n",
    "#calling the pos_disambiguation() function and assigning it to the variable disambiguated_synsets\n",
    "disambiguated_synsets = pos_disambiguation(sentence, ambiguous_word)\n",
    "\n",
    "#iterating through the synsets in disambiguated_synsets and printing each synset with their definitions\n",
    "for synset in disambiguated_synsets:\n",
    "    print(synset, synset.definition())\n",
    "    print()"
   ]
  },
  {
   "cell_type": "code",
   "execution_count": 5,
   "id": "12a48e02",
   "metadata": {},
   "outputs": [
    {
     "name": "stdout",
     "output_type": "stream",
     "text": [
      "Synset('clock.n.01') a timepiece that shows the time of day\n",
      "\n"
     ]
    }
   ],
   "source": [
    "#initializing the sentence and ambiguous_word\n",
    "sentence = \"A clock shows the time of the day.\"\n",
    "ambiguous_word = \"clock\"\n",
    "\n",
    "#calling the pos_disambiguation() function and assigning it to the variable disambiguated_synsets\n",
    "disambiguated_synsets = pos_disambiguation(sentence, ambiguous_word)\n",
    "\n",
    "#iterating through the synsets in disambiguated_synsets and printing each synset with their definitions\n",
    "for synset in disambiguated_synsets:\n",
    "    print(synset, synset.definition())\n",
    "    print()"
   ]
  },
  {
   "cell_type": "code",
   "execution_count": 6,
   "id": "992dabe9",
   "metadata": {},
   "outputs": [
    {
     "name": "stdout",
     "output_type": "stream",
     "text": [
      "Synset('clock.v.01') measure the time or duration of an event or action or the person who performs an action in a certain period of time\n",
      "\n"
     ]
    }
   ],
   "source": [
    "#initializing the sentence and ambiguous_word\n",
    "sentence = \"The manager will clock the runners tomorrow.\"\n",
    "ambiguous_word = \"clock\"\n",
    "\n",
    "#calling the pos_disambiguation() function and assigning it to the variable disambiguated_synsets\n",
    "disambiguated_synsets = pos_disambiguation(sentence, ambiguous_word)\n",
    "\n",
    "#iterating through the synsets in disambiguated_synsets and printing each synset with their definitions\n",
    "for synset in disambiguated_synsets:\n",
    "    print(synset, synset.definition())\n",
    "    print()"
   ]
  },
  {
   "cell_type": "code",
   "execution_count": null,
   "id": "baf2756d",
   "metadata": {},
   "outputs": [],
   "source": []
  }
 ],
 "metadata": {
  "kernelspec": {
   "display_name": "Python 3 (ipykernel)",
   "language": "python",
   "name": "python3"
  },
  "language_info": {
   "codemirror_mode": {
    "name": "ipython",
    "version": 3
   },
   "file_extension": ".py",
   "mimetype": "text/x-python",
   "name": "python",
   "nbconvert_exporter": "python",
   "pygments_lexer": "ipython3",
   "version": "3.9.13"
  }
 },
 "nbformat": 4,
 "nbformat_minor": 5
}
